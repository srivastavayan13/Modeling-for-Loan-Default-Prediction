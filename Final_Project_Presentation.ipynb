{
  "cells": [
    {
      "cell_type": "markdown",
      "metadata": {
        "id": "yAg7fxfsJnX0"
      },
      "source": [
        "### About the Dataset"
      ]
    },
    {
      "cell_type": "code",
      "execution_count": 1,
      "metadata": {
        "colab": {
          "base_uri": "https://localhost:8080/"
        },
        "id": "iabfTDR3Jb3p",
        "outputId": "26a0760d-b2a7-4b85-8a0b-eab512db6fe9"
      },
      "outputs": [
        {
          "name": "stdout",
          "output_type": "stream",
          "text": [
            "Raw Dataset Overview:\n",
            "<class 'pandas.core.frame.DataFrame'>\n",
            "RangeIndex: 8736 entries, 0 to 8735\n",
            "Data columns (total 17 columns):\n",
            " #   Column          Non-Null Count  Dtype  \n",
            "---  ------          --------------  -----  \n",
            " 0   LoanID          8736 non-null   object \n",
            " 1   Age             8736 non-null   int64  \n",
            " 2   Income          8736 non-null   int64  \n",
            " 3   LoanAmount      8736 non-null   int64  \n",
            " 4   CreditScore     8736 non-null   int64  \n",
            " 5   MonthsEmployed  8736 non-null   int64  \n",
            " 6   NumCreditLines  8736 non-null   int64  \n",
            " 7   InterestRate    8736 non-null   float64\n",
            " 8   LoanTerm        8736 non-null   int64  \n",
            " 9   DTIRatio        8736 non-null   float64\n",
            " 10  Education       8736 non-null   object \n",
            " 11  MaritalStatus   8736 non-null   object \n",
            " 12  HasMortgage     8736 non-null   object \n",
            " 13  HasDependents   8736 non-null   object \n",
            " 14  LoanPurpose     8736 non-null   object \n",
            " 15  HasCoSigner     8736 non-null   object \n",
            " 16  Default         8736 non-null   int64  \n",
            "dtypes: float64(2), int64(8), object(7)\n",
            "memory usage: 1.1+ MB\n",
            "None\n",
            "\n",
            "Summary Statistics for Numerical Columns:\n",
            "               Age         Income     LoanAmount  CreditScore  MonthsEmployed  \\\n",
            "count  8736.000000    8736.000000    8736.000000  8736.000000     8736.000000   \n",
            "mean     43.722070   82477.304029  127884.226763   574.300710       59.446772   \n",
            "std      15.073949   39072.677839   70804.591705   159.597217       34.425143   \n",
            "min      18.000000   15015.000000    5005.000000   300.000000        0.000000   \n",
            "25%      30.750000   49045.000000   67102.750000   437.000000       30.000000   \n",
            "50%      44.000000   81741.000000  127557.000000   572.000000       59.000000   \n",
            "75%      57.000000  116618.500000  188853.250000   712.000000       89.000000   \n",
            "max      69.000000  149999.000000  249925.000000   849.000000      119.000000   \n",
            "\n",
            "       NumCreditLines  InterestRate     LoanTerm     DTIRatio      Default  \n",
            "count      8736.00000   8736.000000  8736.000000  8736.000000  8736.000000  \n",
            "mean          2.49565     13.307531    36.109890     0.504540     0.109776  \n",
            "std           1.11450      6.667311    16.867898     0.232726     0.312628  \n",
            "min           1.00000      2.000000    12.000000     0.100000     0.000000  \n",
            "25%           2.00000      7.530000    24.000000     0.310000     0.000000  \n",
            "50%           2.00000     13.190000    36.000000     0.500000     0.000000  \n",
            "75%           3.00000     19.130000    48.000000     0.710000     0.000000  \n",
            "max           4.00000     25.000000    60.000000     0.900000     1.000000  \n",
            "\n",
            "First Few Rows of the Raw Dataset:\n",
            "       LoanID  Age  Income  LoanAmount  CreditScore  MonthsEmployed  \\\n",
            "0  ZZZX015LV2   65  114515       95500          820              45   \n",
            "1  ZZZV1HB132   69  143661      157929          407              38   \n",
            "2  ZZZMFPZFKE   27  102495      140375          764              82   \n",
            "3  ZZZI5YOV9G   32  101616      101862          628              32   \n",
            "4  ZZZHT6VWO4   37   25394      235125          527              12   \n",
            "\n",
            "   NumCreditLines  InterestRate  LoanTerm  DTIRatio    Education  \\\n",
            "0               4          8.87        48      0.13  High School   \n",
            "1               4          6.07        60      0.33     Master's   \n",
            "2               4         23.82        24      0.63  High School   \n",
            "3               2         17.45        12      0.38  High School   \n",
            "4               2         12.45        24      0.17   Bachelor's   \n",
            "\n",
            "  MaritalStatus HasMortgage HasDependents LoanPurpose HasCoSigner  Default  \n",
            "0        Single          No            No    Business          No        0  \n",
            "1      Divorced         Yes           Yes        Home          No        0  \n",
            "2      Divorced         Yes            No       Other          No        0  \n",
            "3        Single         Yes            No   Education          No        1  \n",
            "4       Married         Yes           Yes   Education         Yes        1  \n"
          ]
        }
      ],
      "source": [
        "\n",
        "import pandas as pd\n",
        "\n",
        "# Load your Excel file into a pandas DataFrame\n",
        "file_path = \"Loan Default Prediction Dataset_exported.csv\"\n",
        "raw_df = pd.read_csv(file_path)\n",
        "\n",
        "# Display basic information about the raw dataset\n",
        "print(\"Raw Dataset Overview:\")\n",
        "print(raw_df.info())\n",
        "\n",
        "# Display summary statistics for numerical columns\n",
        "print(\"\\nSummary Statistics for Numerical Columns:\")\n",
        "print(raw_df.describe())\n",
        "\n",
        "# Display the first few rows of the raw dataset\n",
        "print(\"\\nFirst Few Rows of the Raw Dataset:\")\n",
        "print(raw_df.head())"
      ]
    },
    {
      "cell_type": "markdown",
      "metadata": {
        "id": "T6Lo2n4QJwCq"
      },
      "source": [
        "# Data Preprocessing"
      ]
    },
    {
      "cell_type": "code",
      "execution_count": 2,
      "metadata": {
        "id": "zzhenzAlICPY"
      },
      "outputs": [],
      "source": [
        "import pandas as pd\n",
        "from sklearn.model_selection import train_test_split\n",
        "from sklearn.preprocessing import StandardScaler, OneHotEncoder\n",
        "from sklearn.compose import ColumnTransformer\n",
        "from sklearn.pipeline import Pipeline\n",
        "import joblib\n",
        "\n",
        "def preprocess_data(df):\n",
        "    # Drop rows with missing values (you can customize this based on your dataset)\n",
        "    df = df.dropna()\n",
        "\n",
        "    # Drop 'LoanID' if present\n",
        "    if 'LoanID' in df.columns:\n",
        "        df = df.drop('LoanID', axis=1)\n",
        "\n",
        "    # Separate features and target variable\n",
        "    X = df.drop('Default', axis=1)\n",
        "    y = df['Default']\n",
        "\n",
        "    # Split the data into training and testing sets\n",
        "    X_train, X_test, y_train, y_test = train_test_split(X, y, test_size=0.2, random_state=42)\n",
        "\n",
        "    # Get the original column names for numeric and categorical features\n",
        "    numeric_features = X.select_dtypes(include=['int64', 'float64']).columns\n",
        "    categorical_features = X.select_dtypes(include=['object']).columns\n",
        "\n",
        "    # Create transformers for numerical and categorical features\n",
        "    numeric_transformer = Pipeline(steps=[\n",
        "        ('scaler', StandardScaler())\n",
        "    ])\n",
        "\n",
        "    categorical_transformer = Pipeline(steps=[\n",
        "        ('onehot', OneHotEncoder(handle_unknown='ignore'))\n",
        "    ])\n",
        "\n",
        "    # Combine transformers using ColumnTransformer\n",
        "    preprocessor = ColumnTransformer(\n",
        "        transformers=[\n",
        "            ('num', numeric_transformer, numeric_features),\n",
        "            ('cat', categorical_transformer, categorical_features)\n",
        "        ])\n",
        "\n",
        "    # Apply preprocessing to training set\n",
        "    X_train_preprocessed = preprocessor.fit_transform(X_train)\n",
        "\n",
        "    # Apply the same preprocessing to testing set\n",
        "    X_test_preprocessed = preprocessor.transform(X_test)\n",
        "\n",
        "    # Save the scalers\n",
        "    scaler = preprocessor.named_transformers_['num']['scaler']\n",
        "    joblib.dump(scaler, 'scaler.joblib')\n",
        "\n",
        "    onehot_encoder = preprocessor.named_transformers_['cat']['onehot']\n",
        "    joblib.dump(onehot_encoder, 'onehot_encoder.joblib')\n",
        "\n",
        "    joblib.dump(preprocessor, 'preprocessor.joblib')\n",
        "\n",
        "    return X_train_preprocessed, X_test_preprocessed, y_train, y_test\n",
        "\n",
        "\n",
        "\n"
      ]
    },
    {
      "cell_type": "code",
      "execution_count": 3,
      "metadata": {
        "id": "WbTVSbUXILRD"
      },
      "outputs": [],
      "source": [
        "# Data Preprocessing\n",
        "file_path = \"Loan Default Prediction Dataset_exported.csv\"\n",
        "df = pd.read_csv(file_path)\n",
        "X_train, X_test, y_train, y_test = preprocess_data(df)"
      ]
    },
    {
      "cell_type": "markdown",
      "metadata": {
        "id": "A0xxVQSSKkPt"
      },
      "source": [
        "# Building Neural Network Model"
      ]
    },
    {
      "cell_type": "code",
      "execution_count": null,
      "metadata": {
        "colab": {
          "base_uri": "https://localhost:8080/"
        },
        "id": "IpLLRW7qKiQh",
        "outputId": "fb8b7796-cb19-425e-d097-58e668581cda"
      },
      "outputs": [
        {
          "name": "stdout",
          "output_type": "stream",
          "text": [
            "Even More Complex Neural Network Model Summary:\n",
            "Model: \"sequential\"\n",
            "_________________________________________________________________\n",
            " Layer (type)                Output Shape              Param #   \n",
            "=================================================================\n",
            " dense (Dense)               (None, 128)               3584      \n",
            "                                                                 \n",
            " dropout (Dropout)           (None, 128)               0         \n",
            "                                                                 \n",
            " dense_1 (Dense)             (None, 256)               33024     \n",
            "                                                                 \n",
            " dropout_1 (Dropout)         (None, 256)               0         \n",
            "                                                                 \n",
            " dense_2 (Dense)             (None, 128)               32896     \n",
            "                                                                 \n",
            " dense_3 (Dense)             (None, 64)                8256      \n",
            "                                                                 \n",
            " dropout_2 (Dropout)         (None, 64)                0         \n",
            "                                                                 \n",
            " dense_4 (Dense)             (None, 32)                2080      \n",
            "                                                                 \n",
            " dense_5 (Dense)             (None, 1)                 33        \n",
            "                                                                 \n",
            "=================================================================\n",
            "Total params: 79873 (312.00 KB)\n",
            "Trainable params: 79873 (312.00 KB)\n",
            "Non-trainable params: 0 (0.00 Byte)\n",
            "_________________________________________________________________\n",
            "None\n"
          ]
        }
      ],
      "source": [
        "import tensorflow as tf\n",
        "from tensorflow.keras.models import Sequential\n",
        "from tensorflow.keras.layers import Dense, Dropout\n",
        "\n",
        "# Define a more complex architecture of your neural network with additional layers\n",
        "def build_neural_network(input_dim):\n",
        "    model = Sequential()\n",
        "\n",
        "    # Add input layer\n",
        "    model.add(Dense(128, input_dim=input_dim, activation='relu'))\n",
        "    model.add(Dropout(0.5))\n",
        "\n",
        "    # Add hidden layers\n",
        "    model.add(Dense(256, activation='relu'))\n",
        "    model.add(Dropout(0.5))\n",
        "    model.add(Dense(128, activation='relu'))\n",
        "\n",
        "    # Add more hidden layers\n",
        "    model.add(Dense(64, activation='relu'))\n",
        "    model.add(Dropout(0.3))\n",
        "    model.add(Dense(32, activation='relu'))\n",
        "\n",
        "    # Add output layer with sigmoid activation for binary classification\n",
        "    model.add(Dense(1, activation='sigmoid'))\n",
        "\n",
        "    return model\n",
        "\n",
        "# Get the number of features for input_dim\n",
        "input_dim = X_train.shape[1]\n",
        "\n",
        "# Build the even more complex neural network model\n",
        "model = build_neural_network(input_dim)\n",
        "\n",
        "# Compile the model with binary crossentropy loss and Adam optimizer\n",
        "model.compile(loss='binary_crossentropy', optimizer='adam', metrics=['accuracy'])\n",
        "\n",
        "# Display the model summary\n",
        "print(\"Even More Complex Neural Network Model Summary:\")\n",
        "print(model.summary())\n"
      ]
    },
    {
      "cell_type": "markdown",
      "metadata": {
        "id": "F_zBgeKRL2NM"
      },
      "source": [
        "# Training the Model"
      ]
    },
    {
      "cell_type": "markdown",
      "metadata": {
        "id": "zN-DcRG5L7MI"
      },
      "source": [
        "Simple Training"
      ]
    },
    {
      "cell_type": "code",
      "execution_count": null,
      "metadata": {
        "colab": {
          "base_uri": "https://localhost:8080/"
        },
        "id": "wG959kF_L1ld",
        "outputId": "56c0a12d-e4c2-4c5e-9be3-32f2052a7ae1"
      },
      "outputs": [
        {
          "name": "stdout",
          "output_type": "stream",
          "text": [
            "Epoch 1/10\n",
            "175/175 [==============================] - 7s 10ms/step - loss: 0.3673 - accuracy: 0.8744 - val_loss: 0.3350 - val_accuracy: 0.8845\n",
            "Epoch 2/10\n",
            "175/175 [==============================] - 1s 6ms/step - loss: 0.3310 - accuracy: 0.8863 - val_loss: 0.3277 - val_accuracy: 0.8845\n",
            "Epoch 3/10\n",
            "175/175 [==============================] - 1s 6ms/step - loss: 0.3299 - accuracy: 0.8863 - val_loss: 0.3309 - val_accuracy: 0.8845\n",
            "Epoch 4/10\n",
            "175/175 [==============================] - 1s 6ms/step - loss: 0.3238 - accuracy: 0.8863 - val_loss: 0.3259 - val_accuracy: 0.8845\n",
            "Epoch 5/10\n",
            "175/175 [==============================] - 1s 6ms/step - loss: 0.3212 - accuracy: 0.8866 - val_loss: 0.3221 - val_accuracy: 0.8848\n",
            "Epoch 6/10\n",
            "175/175 [==============================] - 1s 6ms/step - loss: 0.3212 - accuracy: 0.8858 - val_loss: 0.3282 - val_accuracy: 0.8856\n",
            "Epoch 7/10\n",
            "175/175 [==============================] - 1s 6ms/step - loss: 0.3184 - accuracy: 0.8872 - val_loss: 0.3246 - val_accuracy: 0.8870\n",
            "Epoch 8/10\n",
            "175/175 [==============================] - 1s 6ms/step - loss: 0.3200 - accuracy: 0.8869 - val_loss: 0.3237 - val_accuracy: 0.8859\n",
            "Epoch 9/10\n",
            "175/175 [==============================] - 1s 7ms/step - loss: 0.3161 - accuracy: 0.8868 - val_loss: 0.3185 - val_accuracy: 0.8859\n",
            "Epoch 10/10\n",
            "175/175 [==============================] - 2s 10ms/step - loss: 0.3166 - accuracy: 0.8880 - val_loss: 0.3271 - val_accuracy: 0.8852\n",
            "110/110 [==============================] - 0s 3ms/step - loss: 0.3232 - accuracy: 0.8884\n",
            "\n",
            "Training History:\n",
            "{'loss': [0.3672865629196167, 0.33101969957351685, 0.32987359166145325, 0.32382047176361084, 0.32121697068214417, 0.32118383049964905, 0.31839799880981445, 0.32001030445098877, 0.3161250948905945, 0.31660106778144836], 'accuracy': [0.8743740916252136, 0.8862661123275757, 0.8862661123275757, 0.8862661123275757, 0.886623740196228, 0.8858190178871155, 0.8872496485710144, 0.8868919610977173, 0.8868025541305542, 0.8879649639129639], 'val_loss': [0.3349820375442505, 0.32768625020980835, 0.3309270441532135, 0.3259182572364807, 0.3220687508583069, 0.3282409608364105, 0.32461637258529663, 0.32369768619537354, 0.318514883518219, 0.3271445333957672], 'val_accuracy': [0.8844778537750244, 0.8844778537750244, 0.8844778537750244, 0.8844778537750244, 0.8848354816436768, 0.8855507969856262, 0.8869814276695251, 0.8859084248542786, 0.8859084248542786, 0.8851931095123291]}\n",
            "\n",
            "Test Loss: 0.32315292954444885\n",
            "Test Accuracy: 0.8884439468383789\n"
          ]
        }
      ],
      "source": [
        "# Set the number of epochs and batch size\n",
        "epochs = 10\n",
        "batch_size = 64\n",
        "\n",
        "# Train the model on the training data\n",
        "history = model.fit(X_train, y_train, epochs=epochs, batch_size=batch_size, validation_split=0.2)\n",
        "\n",
        "# Evaluate the model on the test data\n",
        "test_loss, test_accuracy = model.evaluate(X_test, y_test)\n",
        "\n",
        "# Display training history (loss and accuracy over epochs)\n",
        "print(\"\\nTraining History:\")\n",
        "print(history.history)\n",
        "\n",
        "# Display test performance\n",
        "print(\"\\nTest Loss:\", test_loss)\n",
        "print(\"Test Accuracy:\", test_accuracy)"
      ]
    },
    {
      "cell_type": "markdown",
      "metadata": {
        "id": "gSzt-wYyM3Ce"
      },
      "source": [
        "Complex Training with\n",
        "1.   EarlyStopping\n",
        "2.   LearningRateScheduler\n",
        "\n"
      ]
    },
    {
      "cell_type": "code",
      "execution_count": null,
      "metadata": {
        "colab": {
          "base_uri": "https://localhost:8080/"
        },
        "id": "Ud62b7q5M2rZ",
        "outputId": "38217b61-a58e-452b-a34a-d9dbbf302e31"
      },
      "outputs": [
        {
          "name": "stdout",
          "output_type": "stream",
          "text": [
            "Epoch 1/20\n",
            "175/175 [==============================] - 1s 6ms/step - loss: 0.3149 - accuracy: 0.8874 - val_loss: 0.3342 - val_accuracy: 0.8852 - lr: 0.0010\n",
            "Epoch 2/20\n",
            "175/175 [==============================] - 1s 6ms/step - loss: 0.3141 - accuracy: 0.8881 - val_loss: 0.3345 - val_accuracy: 0.8852 - lr: 0.0010\n",
            "Epoch 3/20\n",
            "175/175 [==============================] - 1s 6ms/step - loss: 0.3106 - accuracy: 0.8886 - val_loss: 0.3214 - val_accuracy: 0.8859 - lr: 0.0010\n",
            "Epoch 4/20\n",
            "175/175 [==============================] - 1s 6ms/step - loss: 0.3136 - accuracy: 0.8870 - val_loss: 0.3277 - val_accuracy: 0.8866 - lr: 0.0010\n",
            "Epoch 5/20\n",
            "175/175 [==============================] - 1s 6ms/step - loss: 0.3108 - accuracy: 0.8886 - val_loss: 0.3303 - val_accuracy: 0.8870 - lr: 0.0010\n",
            "Epoch 6/20\n",
            "175/175 [==============================] - 1s 6ms/step - loss: 0.3093 - accuracy: 0.8888 - val_loss: 0.3266 - val_accuracy: 0.8838 - lr: 5.0000e-04\n",
            "110/110 [==============================] - 0s 3ms/step - loss: 0.3142 - accuracy: 0.8864\n",
            "\n",
            "Training History:\n",
            "{'loss': [0.31490153074264526, 0.3141362965106964, 0.31056925654411316, 0.31356266140937805, 0.3108162581920624, 0.3092946410179138], 'accuracy': [0.8874284625053406, 0.88814377784729, 0.8885908722877502, 0.8869814276695251, 0.8885908722877502, 0.8887696862220764], 'val_loss': [0.3341784179210663, 0.33452367782592773, 0.3214338421821594, 0.32770422101020813, 0.3303332030773163, 0.32660943269729614], 'val_accuracy': [0.8851931095123291, 0.8851931095123291, 0.8859084248542786, 0.886623740196228, 0.8869814276695251, 0.883762538433075], 'lr': [0.001, 0.001, 0.001, 0.001, 0.001, 0.0005]}\n",
            "\n",
            "Test Loss: 0.314153790473938\n",
            "Test Accuracy: 0.8864416480064392\n"
          ]
        }
      ],
      "source": [
        "from tensorflow.keras.callbacks import EarlyStopping, LearningRateScheduler\n",
        "\n",
        "# Define a learning rate schedule function (you can customize this based on your needs)\n",
        "def lr_schedule(epoch):\n",
        "    if epoch < 5:\n",
        "        return 0.001\n",
        "    elif epoch < 10:\n",
        "        return 0.0005\n",
        "    else:\n",
        "        return 0.0001\n",
        "\n",
        "# Set the number of epochs and batch size\n",
        "epochs = 20\n",
        "batch_size = 64\n",
        "\n",
        "# Define early stopping to stop training if the validation loss doesn't improve\n",
        "early_stopping = EarlyStopping(monitor='val_loss', patience=3, restore_best_weights=True)\n",
        "\n",
        "# Define learning rate scheduler\n",
        "lr_scheduler = LearningRateScheduler(lr_schedule)\n",
        "\n",
        "# Train the model on the training data with learning rate scheduling and early stopping\n",
        "history = model.fit(\n",
        "    X_train, y_train,\n",
        "    epochs=epochs,\n",
        "    batch_size=batch_size,\n",
        "    validation_split=0.2,\n",
        "    callbacks=[early_stopping, lr_scheduler]\n",
        ")\n",
        "\n",
        "# Evaluate the model on the test data\n",
        "test_loss, test_accuracy = model.evaluate(X_test, y_test)\n",
        "\n",
        "# Display training history (loss and accuracy over epochs)\n",
        "print(\"\\nTraining History:\")\n",
        "print(history.history)\n",
        "\n",
        "# Display test performance\n",
        "print(\"\\nTest Loss:\", test_loss)\n",
        "print(\"Test Accuracy:\", test_accuracy)\n"
      ]
    },
    {
      "cell_type": "markdown",
      "metadata": {
        "id": "ObJ42Q6dOzO_"
      },
      "source": [
        "Evaluating the Model"
      ]
    },
    {
      "cell_type": "code",
      "execution_count": null,
      "metadata": {
        "colab": {
          "base_uri": "https://localhost:8080/",
          "height": 668
        },
        "id": "t2-1fH1_OypZ",
        "outputId": "1f16afd6-ac0e-4a00-e59b-6683b9ebb9a2"
      },
      "outputs": [
        {
          "name": "stdout",
          "output_type": "stream",
          "text": [
            "110/110 [==============================] - 1s 4ms/step\n",
            "Test Accuracy: 0.886441647597254\n",
            "Precision: 0.5277777777777778\n",
            "Recall: 0.09476309226932668\n",
            "F1 Score: 0.160676532769556\n",
            "ROC AUC Score: 0.7515258703000174\n"
          ]
        },
        {
          "data": {
            "image/png": "[encoded data removed]",
            "text/plain": [
              "<Figure size 800x600 with 1 Axes>"
            ]
          },
          "metadata": {},
          "output_type": "display_data"
        }
      ],
      "source": [
        "from sklearn.metrics import accuracy_score, precision_score, recall_score, f1_score, roc_auc_score, confusion_matrix\n",
        "import seaborn as sns\n",
        "import matplotlib.pyplot as plt\n",
        "\n",
        "# Predictions on the test set\n",
        "y_pred = model.predict(X_test)\n",
        "y_pred_binary = (y_pred > 0.5).astype(int)\n",
        "\n",
        "# Convert y_test to binary format (0 or 1)\n",
        "y_test_binary = y_test.astype(int)\n",
        "\n",
        "# Calculate metrics\n",
        "accuracy = accuracy_score(y_test_binary, y_pred_binary)\n",
        "precision = precision_score(y_test_binary, y_pred_binary)\n",
        "recall = recall_score(y_test_binary, y_pred_binary)\n",
        "f1 = f1_score(y_test_binary, y_pred_binary)\n",
        "roc_auc = roc_auc_score(y_test_binary, y_pred)\n",
        "\n",
        "# Display metrics\n",
        "print(\"Test Accuracy:\", accuracy)\n",
        "print(\"Precision:\", precision)\n",
        "print(\"Recall:\", recall)\n",
        "print(\"F1 Score:\", f1)\n",
        "print(\"ROC AUC Score:\", roc_auc)\n",
        "\n",
        "# Confusion Matrix\n",
        "cm = confusion_matrix(y_test_binary, y_pred_binary)\n",
        "plt.figure(figsize=(8, 6))\n",
        "sns.heatmap(cm, annot=True, fmt=\"d\", cmap=\"Blues\", cbar=False, annot_kws={\"size\": 14})\n",
        "plt.xlabel(\"Predicted Labels\")\n",
        "plt.ylabel(\"True Labels\")\n",
        "plt.title(\"Confusion Matrix\")\n",
        "plt.show()\n"
      ]
    },
    {
      "cell_type": "markdown",
      "metadata": {
        "id": "AyhfuQuBQAFP"
      },
      "source": [
        "Fine Tunning the Model"
      ]
    },
    {
      "cell_type": "code",
      "execution_count": null,
      "metadata": {
        "colab": {
          "base_uri": "https://localhost:8080/"
        },
        "id": "NmUSPGz_P9n5",
        "outputId": "a020cb40-431f-45d5-8d94-54ed400e1ba8"
      },
      "outputs": [
        {
          "name": "stdout",
          "output_type": "stream",
          "text": [
            "Epoch 1/20\n",
            "175/175 [==============================] - 3s 8ms/step - loss: 0.6659 - accuracy: 0.6704 - val_loss: 0.3729 - val_accuracy: 0.8845\n",
            "Epoch 2/20\n",
            "175/175 [==============================] - 1s 6ms/step - loss: 0.4342 - accuracy: 0.8312 - val_loss: 0.3277 - val_accuracy: 0.8852\n",
            "Epoch 3/20\n",
            "175/175 [==============================] - 1s 6ms/step - loss: 0.3794 - accuracy: 0.8641 - val_loss: 0.3205 - val_accuracy: 0.8866\n",
            "Epoch 4/20\n",
            "175/175 [==============================] - 1s 7ms/step - loss: 0.3635 - accuracy: 0.8744 - val_loss: 0.3180 - val_accuracy: 0.8866\n",
            "Epoch 5/20\n",
            "175/175 [==============================] - 1s 6ms/step - loss: 0.3474 - accuracy: 0.8797 - val_loss: 0.3178 - val_accuracy: 0.8859\n",
            "Epoch 6/20\n",
            "175/175 [==============================] - 1s 6ms/step - loss: 0.3388 - accuracy: 0.8809 - val_loss: 0.3184 - val_accuracy: 0.8856\n",
            "Epoch 7/20\n",
            "175/175 [==============================] - 2s 9ms/step - loss: 0.3331 - accuracy: 0.8850 - val_loss: 0.3181 - val_accuracy: 0.8863\n",
            "Epoch 8/20\n",
            "175/175 [==============================] - 2s 10ms/step - loss: 0.3332 - accuracy: 0.8837 - val_loss: 0.3181 - val_accuracy: 0.8863\n",
            "Epoch 9/20\n",
            "175/175 [==============================] - 1s 6ms/step - loss: 0.3269 - accuracy: 0.8848 - val_loss: 0.3176 - val_accuracy: 0.8852\n",
            "Epoch 10/20\n",
            "175/175 [==============================] - 1s 6ms/step - loss: 0.3239 - accuracy: 0.8854 - val_loss: 0.3169 - val_accuracy: 0.8856\n",
            "Epoch 11/20\n",
            "175/175 [==============================] - 1s 6ms/step - loss: 0.3236 - accuracy: 0.8858 - val_loss: 0.3177 - val_accuracy: 0.8859\n",
            "Epoch 12/20\n",
            "175/175 [==============================] - 1s 6ms/step - loss: 0.3213 - accuracy: 0.8858 - val_loss: 0.3177 - val_accuracy: 0.8863\n",
            "Epoch 13/20\n",
            "175/175 [==============================] - 1s 7ms/step - loss: 0.3214 - accuracy: 0.8847 - val_loss: 0.3174 - val_accuracy: 0.8866\n",
            "Epoch 14/20\n",
            "175/175 [==============================] - 1s 6ms/step - loss: 0.3186 - accuracy: 0.8854 - val_loss: 0.3186 - val_accuracy: 0.8863\n",
            "Epoch 15/20\n",
            "175/175 [==============================] - 1s 6ms/step - loss: 0.3212 - accuracy: 0.8864 - val_loss: 0.3183 - val_accuracy: 0.8866\n"
          ]
        }
      ],
      "source": [
        "from tensorflow.keras.models import Sequential\n",
        "from tensorflow.keras.layers import Dense, Dropout, BatchNormalization\n",
        "\n",
        "# Define a more advanced model\n",
        "advanced_model = Sequential()\n",
        "advanced_model.add(Dense(256, activation='relu', input_shape=(X_train.shape[1],)))\n",
        "advanced_model.add(BatchNormalization())\n",
        "advanced_model.add(Dropout(0.5))\n",
        "advanced_model.add(Dense(128, activation='relu'))\n",
        "advanced_model.add(BatchNormalization())\n",
        "advanced_model.add(Dropout(0.5))\n",
        "advanced_model.add(Dense(64, activation='relu'))\n",
        "advanced_model.add(BatchNormalization())\n",
        "advanced_model.add(Dropout(0.5))\n",
        "advanced_model.add(Dense(1, activation='sigmoid'))\n",
        "\n",
        "# Compile the model with a lower learning rate and L2 regularization\n",
        "advanced_model.compile(optimizer='adam', loss='binary_crossentropy', metrics=['accuracy'])\n",
        "\n",
        "# Train the model with early stopping\n",
        "history_advanced = advanced_model.fit(\n",
        "    X_train, y_train,\n",
        "    epochs=20,\n",
        "    batch_size=64,\n",
        "    validation_split=0.2,\n",
        "    callbacks=[EarlyStopping(monitor='val_loss', patience=5, restore_best_weights=True)]\n",
        ")\n"
      ]
    },
    {
      "cell_type": "code",
      "execution_count": null,
      "metadata": {
        "colab": {
          "base_uri": "https://localhost:8080/",
          "height": 668
        },
        "id": "iQeOjJJlQzB8",
        "outputId": "50bf6f09-2147-400d-942a-d54d0759204b"
      },
      "outputs": [
        {
          "name": "stdout",
          "output_type": "stream",
          "text": [
            "110/110 [==============================] - 0s 2ms/step\n",
            "Test Accuracy: 0.8861556064073226\n",
            "Precision: 1.0\n",
            "Recall: 0.007481296758104738\n",
            "F1 Score: 0.014851485148514849\n",
            "ROC AUC Score: 0.7502592468747357\n"
          ]
        },
        {
          "data": {
            "image/png": "[encoded data removed]",
            "text/plain": [
              "<Figure size 800x600 with 1 Axes>"
            ]
          },
          "metadata": {},
          "output_type": "display_data"
        }
      ],
      "source": [
        "from sklearn.metrics import accuracy_score, precision_score, recall_score, f1_score, roc_auc_score, confusion_matrix\n",
        "import seaborn as sns\n",
        "import matplotlib.pyplot as plt\n",
        "\n",
        "# Predictions on the test set\n",
        "y_pred = advanced_model.predict(X_test)\n",
        "y_pred_binary = (y_pred > 0.5).astype(int)\n",
        "\n",
        "# Convert y_test to binary format (0 or 1)\n",
        "y_test_binary = y_test.astype(int)\n",
        "\n",
        "# Calculate metrics\n",
        "accuracy = accuracy_score(y_test_binary, y_pred_binary)\n",
        "precision = precision_score(y_test_binary, y_pred_binary)\n",
        "recall = recall_score(y_test_binary, y_pred_binary)\n",
        "f1 = f1_score(y_test_binary, y_pred_binary)\n",
        "roc_auc = roc_auc_score(y_test_binary, y_pred)\n",
        "\n",
        "# Display metrics\n",
        "print(\"Test Accuracy:\", accuracy)\n",
        "print(\"Precision:\", precision)\n",
        "print(\"Recall:\", recall)\n",
        "print(\"F1 Score:\", f1)\n",
        "print(\"ROC AUC Score:\", roc_auc)\n",
        "\n",
        "# Confusion Matrix\n",
        "cm = confusion_matrix(y_test_binary, y_pred_binary)\n",
        "plt.figure(figsize=(8, 6))\n",
        "sns.heatmap(cm, annot=True, fmt=\"d\", cmap=\"Blues\", cbar=False, annot_kws={\"size\": 14})\n",
        "plt.xlabel(\"Predicted Labels\")\n",
        "plt.ylabel(\"True Labels\")\n",
        "plt.title(\"Confusion Matrix\")\n",
        "plt.show()\n"
      ]
    },
    {
      "cell_type": "markdown",
      "metadata": {
        "id": "SXcUxOH1Raec"
      },
      "source": [
        "L2 Regularization"
      ]
    },
    {
      "cell_type": "code",
      "execution_count": null,
      "metadata": {
        "id": "ZHgrB6FNRVhF"
      },
      "outputs": [],
      "source": [
        "from tensorflow.keras.regularizers import l2\n",
        "\n",
        "advanced_model = Sequential()\n",
        "advanced_model.add(Dense(256, activation='relu', input_shape=(X_train.shape[1],), kernel_regularizer=l2(0.01)))\n",
        "advanced_model.add(BatchNormalization())\n",
        "advanced_model.add(Dropout(0.5))\n",
        "advanced_model.add(Dense(128, activation='relu', kernel_regularizer=l2(0.01)))\n",
        "advanced_model.add(BatchNormalization())\n",
        "advanced_model.add(Dropout(0.5))\n",
        "advanced_model.add(Dense(64, activation='relu', kernel_regularizer=l2(0.01)))\n",
        "advanced_model.add(BatchNormalization())\n",
        "advanced_model.add(Dropout(0.5))\n",
        "advanced_model.add(Dense(1, activation='sigmoid'))\n",
        "\n",
        "# Compile the model\n",
        "advanced_model.compile(optimizer='adam', loss='binary_crossentropy', metrics=['accuracy'])\n"
      ]
    },
    {
      "cell_type": "code",
      "execution_count": null,
      "metadata": {
        "colab": {
          "base_uri": "https://localhost:8080/"
        },
        "id": "NtyJaoWvRicK",
        "outputId": "f7434959-8894-4802-feb9-4f73ff75abe4"
      },
      "outputs": [
        {
          "name": "stdout",
          "output_type": "stream",
          "text": [
            "110/110 [==============================] - 0s 2ms/step\n",
            "Test Accuracy: 0.363558352402746\n",
            "Precision: 0.11904761904761904\n",
            "Recall: 0.7107231920199502\n",
            "F1 Score: 0.2039355992844365\n",
            "ROC AUC Score: 0.5409577832478578\n"
          ]
        }
      ],
      "source": [
        "from sklearn.metrics import accuracy_score, precision_score, recall_score, f1_score, roc_auc_score, confusion_matrix\n",
        "import seaborn as sns\n",
        "import matplotlib.pyplot as plt\n",
        "\n",
        "# Predictions on the test set\n",
        "y_pred = advanced_model.predict(X_test)\n",
        "y_pred_binary = (y_pred > 0.5).astype(int)\n",
        "\n",
        "# Convert y_test to binary format (0 or 1)\n",
        "y_test_binary = y_test.astype(int)\n",
        "\n",
        "# Calculate metrics\n",
        "accuracy = accuracy_score(y_test_binary, y_pred_binary)\n",
        "precision = precision_score(y_test_binary, y_pred_binary)\n",
        "recall = recall_score(y_test_binary, y_pred_binary)\n",
        "f1 = f1_score(y_test_binary, y_pred_binary)\n",
        "roc_auc = roc_auc_score(y_test_binary, y_pred)\n",
        "\n",
        "# Display metrics\n",
        "print(\"Test Accuracy:\", accuracy)\n",
        "print(\"Precision:\", precision)\n",
        "print(\"Recall:\", recall)\n",
        "print(\"F1 Score:\", f1)\n",
        "print(\"ROC AUC Score:\", roc_auc)\n"
      ]
    },
    {
      "cell_type": "markdown",
      "metadata": {
        "id": "d7ZmrXJlWrNE"
      },
      "source": [
        "More tuning the improve the scores"
      ]
    },
    {
      "cell_type": "code",
      "execution_count": null,
      "metadata": {
        "colab": {
          "base_uri": "https://localhost:8080/"
        },
        "id": "-v764slhWgXR",
        "outputId": "74266422-33c0-4047-f7df-a191ebf7c3ca"
      },
      "outputs": [
        {
          "name": "stdout",
          "output_type": "stream",
          "text": [
            "Epoch 1/20\n",
            "175/175 [==============================] - 4s 10ms/step - loss: 3.0407 - accuracy: 0.6660 - val_loss: 2.1676 - val_accuracy: 0.8845\n",
            "Epoch 2/20\n",
            "175/175 [==============================] - 1s 6ms/step - loss: 1.7934 - accuracy: 0.8337 - val_loss: 1.3655 - val_accuracy: 0.8845\n",
            "Epoch 3/20\n",
            "175/175 [==============================] - 1s 6ms/step - loss: 1.1818 - accuracy: 0.8658 - val_loss: 0.9403 - val_accuracy: 0.8845\n",
            "Epoch 4/20\n",
            "175/175 [==============================] - 1s 7ms/step - loss: 0.8408 - accuracy: 0.8732 - val_loss: 0.6973 - val_accuracy: 0.8845\n",
            "Epoch 5/20\n",
            "175/175 [==============================] - 1s 6ms/step - loss: 0.6477 - accuracy: 0.8746 - val_loss: 0.5535 - val_accuracy: 0.8848\n",
            "Epoch 6/20\n",
            "175/175 [==============================] - 1s 6ms/step - loss: 0.5193 - accuracy: 0.8830 - val_loss: 0.4758 - val_accuracy: 0.8845\n",
            "Epoch 7/20\n",
            "175/175 [==============================] - 1s 6ms/step - loss: 0.4551 - accuracy: 0.8828 - val_loss: 0.4219 - val_accuracy: 0.8845\n",
            "Epoch 8/20\n",
            "175/175 [==============================] - 1s 6ms/step - loss: 0.4147 - accuracy: 0.8861 - val_loss: 0.3969 - val_accuracy: 0.8845\n",
            "Epoch 9/20\n",
            "175/175 [==============================] - 1s 6ms/step - loss: 0.3969 - accuracy: 0.8845 - val_loss: 0.3814 - val_accuracy: 0.8848\n",
            "Epoch 10/20\n",
            "175/175 [==============================] - 2s 9ms/step - loss: 0.3854 - accuracy: 0.8856 - val_loss: 0.3689 - val_accuracy: 0.8848\n",
            "Epoch 11/20\n",
            "175/175 [==============================] - 2s 9ms/step - loss: 0.3751 - accuracy: 0.8849 - val_loss: 0.3661 - val_accuracy: 0.8873\n",
            "Epoch 12/20\n",
            "175/175 [==============================] - 1s 7ms/step - loss: 0.3695 - accuracy: 0.8854 - val_loss: 0.3620 - val_accuracy: 0.8859\n",
            "Epoch 13/20\n",
            "175/175 [==============================] - 1s 7ms/step - loss: 0.3713 - accuracy: 0.8850 - val_loss: 0.3604 - val_accuracy: 0.8866\n",
            "Epoch 14/20\n",
            "175/175 [==============================] - 1s 6ms/step - loss: 0.3654 - accuracy: 0.8864 - val_loss: 0.3592 - val_accuracy: 0.8845\n",
            "Epoch 15/20\n",
            "175/175 [==============================] - 1s 6ms/step - loss: 0.3664 - accuracy: 0.8862 - val_loss: 0.3572 - val_accuracy: 0.8870\n",
            "Epoch 16/20\n",
            "175/175 [==============================] - 1s 6ms/step - loss: 0.3640 - accuracy: 0.8841 - val_loss: 0.3595 - val_accuracy: 0.8848\n",
            "Epoch 17/20\n",
            "175/175 [==============================] - 1s 7ms/step - loss: 0.3655 - accuracy: 0.8854 - val_loss: 0.3570 - val_accuracy: 0.8863\n",
            "Epoch 18/20\n",
            "175/175 [==============================] - 1s 7ms/step - loss: 0.3619 - accuracy: 0.8843 - val_loss: 0.3549 - val_accuracy: 0.8863\n",
            "Epoch 19/20\n",
            "175/175 [==============================] - 1s 7ms/step - loss: 0.3602 - accuracy: 0.8842 - val_loss: 0.3540 - val_accuracy: 0.8848\n",
            "Epoch 20/20\n",
            "175/175 [==============================] - 2s 9ms/step - loss: 0.3620 - accuracy: 0.8842 - val_loss: 0.3539 - val_accuracy: 0.8859\n",
            "110/110 [==============================] - 0s 3ms/step\n",
            "Classification Report:\n",
            "              precision    recall  f1-score   support\n",
            "\n",
            "         0.0       0.91      0.95      0.93      3095\n",
            "         1.0       0.40      0.24      0.30       401\n",
            "\n",
            "    accuracy                           0.87      3496\n",
            "   macro avg       0.65      0.60      0.62      3496\n",
            "weighted avg       0.85      0.87      0.86      3496\n",
            "\n",
            "ROC AUC Score: 0.7498507366478796\n"
          ]
        }
      ],
      "source": [
        "import numpy as np\n",
        "from sklearn.metrics import classification_report, roc_auc_score\n",
        "\n",
        "# Train the model with L2 regularization and early stopping\n",
        "history_l2 = advanced_model.fit(\n",
        "    X_train, y_train,\n",
        "    epochs=20,\n",
        "    batch_size=64,\n",
        "    validation_split=0.2,\n",
        "    callbacks=[EarlyStopping(monitor='val_loss', patience=5, restore_best_weights=True)]\n",
        ")\n",
        "\n",
        "# Evaluate the model on the test set\n",
        "y_pred_prob = advanced_model.predict(X_test)\n",
        "y_pred = (y_pred_prob > 0.5).astype(int)\n",
        "\n",
        "# Adjust the threshold and calculate metrics\n",
        "threshold = 0.3  # Experiment with different threshold values\n",
        "y_pred_adjusted = (y_pred_prob > threshold).astype(int)\n",
        "\n",
        "print(\"Classification Report:\")\n",
        "print(classification_report(y_test, y_pred_adjusted))\n",
        "\n",
        "print(\"ROC AUC Score:\", roc_auc_score(y_test, y_pred_prob))\n"
      ]
    },
    {
      "cell_type": "markdown",
      "metadata": {
        "id": "CxlzpiFAZlUy"
      },
      "source": [
        "Ensembling"
      ]
    },
    {
      "cell_type": "code",
      "execution_count": null,
      "metadata": {
        "colab": {
          "base_uri": "https://localhost:8080/"
        },
        "id": "Lx2dLV00ZAuv",
        "outputId": "3806438c-7669-4c79-da88-3c145a1412d0"
      },
      "outputs": [
        {
          "name": "stdout",
          "output_type": "stream",
          "text": [
            "Ensemble Performance:\n",
            "              precision    recall  f1-score   support\n",
            "\n",
            "         0.0       0.89      1.00      0.94     12385\n",
            "         1.0       0.74      0.01      0.02      1595\n",
            "\n",
            "    accuracy                           0.89     13980\n",
            "   macro avg       0.81      0.51      0.48     13980\n",
            "weighted avg       0.87      0.89      0.84     13980\n",
            "\n",
            "Accuracy: 0.886695278969957\n"
          ]
        }
      ],
      "source": [
        "from sklearn.ensemble import RandomForestClassifier, VotingClassifier\n",
        "from sklearn.linear_model import LogisticRegression\n",
        "from sklearn.svm import SVC\n",
        "from sklearn.pipeline import make_pipeline\n",
        "from sklearn.model_selection import cross_val_predict\n",
        "from sklearn.metrics import classification_report, accuracy_score\n",
        "from sklearn.preprocessing import StandardScaler\n",
        "\n",
        "# Assume you have already preprocessed X_train and y_train\n",
        "\n",
        "# Define individual classifiers\n",
        "rf_classifier = RandomForestClassifier(n_estimators=50, random_state=42, n_jobs=-1)\n",
        "lr_classifier = make_pipeline(StandardScaler(), LogisticRegression(random_state=42))\n",
        "svm_classifier = make_pipeline(StandardScaler(), SVC(probability=True, random_state=42))\n",
        "\n",
        "# Create a Voting Classifier\n",
        "voting_classifier = VotingClassifier(\n",
        "    estimators=[\n",
        "        ('random_forest', rf_classifier),\n",
        "        ('logistic_regression', lr_classifier),\n",
        "        ('svm', svm_classifier)\n",
        "    ],\n",
        "    voting='soft'  # Use soft voting for probability-based ensemble\n",
        ")\n",
        "\n",
        "# Evaluate the ensemble using cross-validation\n",
        "y_pred = cross_val_predict(voting_classifier, X_train, y_train, cv=5, method='predict_proba')[:, 1]\n",
        "\n",
        "# Threshold the probabilities to get binary predictions\n",
        "threshold = 0.5\n",
        "y_pred_binary = (y_pred > threshold).astype(int)\n",
        "\n",
        "# Evaluate the performance\n",
        "print(\"Ensemble Performance:\")\n",
        "print(classification_report(y_train, y_pred_binary))\n",
        "print(\"Accuracy:\", accuracy_score(y_train, y_pred_binary))\n"
      ]
    },
    {
      "cell_type": "code",
      "execution_count": null,
      "metadata": {
        "colab": {
          "base_uri": "https://localhost:8080/"
        },
        "id": "_usahoT1jE0-",
        "outputId": "fa440466-0d60-4fa0-db8f-683f61263a17"
      },
      "outputs": [
        {
          "name": "stdout",
          "output_type": "stream",
          "text": [
            "Requirement already satisfied: imbalanced-learn in /usr/local/lib/python3.10/dist-packages (0.10.1)\n",
            "Requirement already satisfied: numpy>=1.17.3 in /usr/local/lib/python3.10/dist-packages (from imbalanced-learn) (1.25.2)\n",
            "Requirement already satisfied: scipy>=1.3.2 in /usr/local/lib/python3.10/dist-packages (from imbalanced-learn) (1.11.4)\n",
            "Requirement already satisfied: scikit-learn>=1.0.2 in /usr/local/lib/python3.10/dist-packages (from imbalanced-learn) (1.2.2)\n",
            "Requirement already satisfied: joblib>=1.1.1 in /usr/local/lib/python3.10/dist-packages (from imbalanced-learn) (1.3.2)\n",
            "Requirement already satisfied: threadpoolctl>=2.0.0 in /usr/local/lib/python3.10/dist-packages (from imbalanced-learn) (3.3.0)\n"
          ]
        }
      ],
      "source": [
        "pip install imbalanced-learn\n"
      ]
    },
    {
      "cell_type": "markdown",
      "metadata": {
        "id": "yy3iu1yYm_TQ"
      },
      "source": [
        "Adding OverSampling"
      ]
    },
    {
      "cell_type": "code",
      "execution_count": null,
      "metadata": {
        "colab": {
          "base_uri": "https://localhost:8080/"
        },
        "id": "b-X93B-ZjK04",
        "outputId": "d8025df1-30eb-4ff0-d9b6-39005772a864"
      },
      "outputs": [
        {
          "name": "stdout",
          "output_type": "stream",
          "text": [
            "Ensemble Performance:\n",
            "              precision    recall  f1-score   support\n",
            "\n",
            "         0.0       0.95      0.85      0.90     12385\n",
            "         1.0       0.87      0.95      0.91     12385\n",
            "\n",
            "    accuracy                           0.90     24770\n",
            "   macro avg       0.91      0.90      0.90     24770\n",
            "weighted avg       0.91      0.90      0.90     24770\n",
            "\n",
            "Accuracy: 0.9044812272910779\n"
          ]
        }
      ],
      "source": [
        "from sklearn.ensemble import RandomForestClassifier, VotingClassifier\n",
        "from sklearn.linear_model import LogisticRegression\n",
        "from sklearn.svm import SVC\n",
        "from sklearn.pipeline import make_pipeline\n",
        "from sklearn.model_selection import cross_val_predict\n",
        "from sklearn.metrics import classification_report, accuracy_score\n",
        "from sklearn.preprocessing import StandardScaler\n",
        "from imblearn.over_sampling import RandomOverSampler\n",
        "\n",
        "# Assume you have already preprocessed X_train and y_train\n",
        "\n",
        "# Handle class imbalance with oversampling\n",
        "oversampler = RandomOverSampler(random_state=42)\n",
        "X_resampled, y_resampled = oversampler.fit_resample(X_train, y_train)\n",
        "\n",
        "# Define individual classifiers\n",
        "rf_classifier = RandomForestClassifier(n_estimators=50, random_state=42, n_jobs=-1)\n",
        "lr_classifier = make_pipeline(StandardScaler(), LogisticRegression(random_state=42))\n",
        "svm_classifier = make_pipeline(StandardScaler(), SVC(probability=True, random_state=42))\n",
        "\n",
        "# Create a Voting Classifier\n",
        "voting_classifier = VotingClassifier(\n",
        "    estimators=[\n",
        "        ('random_forest', rf_classifier),\n",
        "        ('logistic_regression', lr_classifier),\n",
        "        ('svm', svm_classifier)\n",
        "    ],\n",
        "    voting='soft'  # Use soft voting for probability-based ensemble\n",
        ")\n",
        "\n",
        "# Evaluate the ensemble using cross-validation\n",
        "y_pred = cross_val_predict(voting_classifier, X_resampled, y_resampled, cv=5, method='predict_proba')[:, 1]\n",
        "\n",
        "# Threshold the probabilities to get binary predictions\n",
        "threshold = 0.5\n",
        "y_pred_binary = (y_pred > threshold).astype(int)\n",
        "\n",
        "# Evaluate the performance\n",
        "print(\"Ensemble Performance:\")\n",
        "print(classification_report(y_resampled, y_pred_binary))\n",
        "print(\"Accuracy:\", accuracy_score(y_resampled, y_pred_binary))\n"
      ]
    },
    {
      "cell_type": "code",
      "execution_count": null,
      "metadata": {
        "id": "-Yqzb7mXp-Hz"
      },
      "outputs": [],
      "source": [
        "#saving the model"
      ]
    },
    {
      "cell_type": "code",
      "execution_count": null,
      "metadata": {
        "colab": {
          "base_uri": "https://localhost:8080/",
          "height": 211
        },
        "collapsed": true,
        "id": "XoHAgD8gpa8n",
        "outputId": "110fb46f-a821-4cf3-c1ab-9b5e714ef88d"
      },
      "outputs": [],
      "source": [
        "from sklearn.ensemble import VotingClassifier\n",
        "import joblib\n",
        "\n",
        "\n",
        "# Save the ensemble model\n",
        "joblib.dump(voting_classifier, 'ensemble_model.joblib')\n"
      ]
    },
    {
      "cell_type": "markdown",
      "metadata": {
        "id": "sNULGAxH0MIF"
      },
      "source": [
        "# Predicting New Data"
      ]
    },
    {
      "cell_type": "code",
      "execution_count": 4,
      "metadata": {
        "colab": {
          "base_uri": "https://localhost:8080/"
        },
        "id": "GHQPQVlftdC6",
        "outputId": "462a2645-01ad-4d6e-b285-26a95d475597"
      },
      "outputs": [
        {
          "name": "stdout",
          "output_type": "stream",
          "text": [
            "Predictions for the new data:\n",
            "[0.]\n"
          ]
        }
      ],
      "source": [
        "import pandas as pd\n",
        "import joblib\n",
        "\n",
        "# Load the saved preprocessors and ensemble model\n",
        "preprocessor = joblib.load('preprocessor.joblib')\n",
        "voting_classifier = joblib.load('ensemble_model.joblib')\n",
        "\n",
        "# Manually input new data\n",
        "new_data = {\n",
        "    'Age': 29,\n",
        "    'Income': 129670,\n",
        "    'LoanAmount': 213947,\n",
        "    'CreditScore': 593,\n",
        "    'MonthsEmployed': 49,\n",
        "    'NumCreditLines': 4,\n",
        "    'InterestRate': 7.07,\n",
        "    'LoanTerm': 60,\n",
        "    'DTIRatio': 0.89,\n",
        "    'Education': \"Bachelor's\",\n",
        "    'MaritalStatus': \"Single\",\n",
        "    'HasMortgage': \"Yes\",\n",
        "    'HasDependents': \"No\",\n",
        "    'LoanPurpose': \"Business\",\n",
        "    'HasCoSigner': \"No\",\n",
        "}\n",
        "\n",
        "# Create a DataFrame with a single row using the new data\n",
        "new_data_df = pd.DataFrame([new_data])\n",
        "\n",
        "# Apply the same preprocessing to the new data\n",
        "X_new_data = preprocessor.transform(new_data_df)\n",
        "\n",
        "# Fit the ensemble model on the training data\n",
        "X_train, _, y_train, _ = preprocess_data(df)  # Assuming preprocess_data function is defined\n",
        "voting_classifier.fit(X_train, y_train)\n",
        "\n",
        "# Make predictions\n",
        "predictions = voting_classifier.predict(X_new_data)\n",
        "\n",
        "# Display the predictions\n",
        "print(\"Predictions for the new data:\")\n",
        "print(predictions)\n"
      ]
    }
  ],
  "metadata": {
    "accelerator": "GPU",
    "colab": {
      "gpuType": "T4",
      "provenance": []
    },
    "kernelspec": {
      "display_name": "Python 3",
      "name": "python3"
    },
    "language_info": {
      "name": "python"
    }
  },
  "nbformat": 4,
  "nbformat_minor": 0
}
