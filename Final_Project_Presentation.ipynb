{
  "cells": [
    {
      "cell_type": "markdown",
      "metadata": {
        "id": "yAg7fxfsJnX0"
      },
      "source": [
        "### About the Dataset"
      ]
    },
    {
      "cell_type": "code",
      "execution_count": null,
      "metadata": {
        "colab": {
          "base_uri": "https://localhost:8080/"
        },
        "id": "iabfTDR3Jb3p",
        "outputId": "f47b264a-caba-41b3-c164-4cb4edd5ed93"
      },
      "outputs": [],
      "source": [
        "\n",
        "import pandas as pd\n",
        "\n",
        "# Load your Excel file into a pandas DataFrame\n",
        "file_path = \"Loan Default Prediction Dataset_exported.csv\"\n",
        "raw_df = pd.read_csv(file_path)\n",
        "\n",
        "# Display basic information about the raw dataset\n",
        "print(\"Raw Dataset Overview:\")\n",
        "print(raw_df.info())\n",
        "\n",
        "# Display summary statistics for numerical columns\n",
        "print(\"\\nSummary Statistics for Numerical Columns:\")\n",
        "print(raw_df.describe())\n",
        "\n",
        "# Display the first few rows of the raw dataset\n",
        "print(\"\\nFirst Few Rows of the Raw Dataset:\")\n",
        "print(raw_df.head())"
      ]
    },
    {
      "cell_type": "markdown",
      "metadata": {
        "id": "T6Lo2n4QJwCq"
      },
      "source": [
        "# Data Preprocessing"
      ]
    },
    {
      "cell_type": "code",
      "execution_count": null,
      "metadata": {
        "id": "zzhenzAlICPY"
      },
      "outputs": [],
      "source": [
        "import pandas as pd\n",
        "from sklearn.model_selection import train_test_split\n",
        "from sklearn.preprocessing import StandardScaler, OneHotEncoder\n",
        "from sklearn.compose import ColumnTransformer\n",
        "from sklearn.pipeline import Pipeline\n",
        "\n",
        "def preprocess_data(df):\n",
        "    # Drop rows with missing values (you can customize this based on your dataset)\n",
        "    df = df.dropna()\n",
        "\n",
        "    # Drop 'LoanID' if present\n",
        "    if 'LoanID' in df.columns:\n",
        "        df = df.drop('LoanID', axis=1)\n",
        "\n",
        "    # Separate features and target variable\n",
        "    X = df.drop('Default', axis=1)\n",
        "    y = df['Default']\n",
        "\n",
        "    # Split the data into training and testing sets\n",
        "    X_train, X_test, y_train, y_test = train_test_split(X, y, test_size=0.2, random_state=42)\n",
        "\n",
        "    # Get the original column names for numeric and categorical features\n",
        "    numeric_features = X.select_dtypes(include=['int64', 'float64']).columns\n",
        "    categorical_features = X.select_dtypes(include=['object']).columns\n",
        "\n",
        "    # Create transformers for numerical and categorical features\n",
        "    numeric_transformer = Pipeline(steps=[\n",
        "        ('scaler', StandardScaler())\n",
        "    ])\n",
        "\n",
        "    categorical_transformer = Pipeline(steps=[\n",
        "        ('onehot', OneHotEncoder(handle_unknown='ignore'))\n",
        "    ])\n",
        "\n",
        "    # Combine transformers using ColumnTransformer\n",
        "    preprocessor = ColumnTransformer(\n",
        "        transformers=[\n",
        "            ('num', numeric_transformer, numeric_features),\n",
        "            ('cat', categorical_transformer, categorical_features)\n",
        "        ])\n",
        "\n",
        "    # Apply preprocessing to training set\n",
        "    X_train_preprocessed = preprocessor.fit_transform(X_train)\n",
        "\n",
        "    # Apply the same preprocessing to testing set\n",
        "    X_test_preprocessed = preprocessor.transform(X_test)\n",
        "\n",
        "    return X_train_preprocessed, X_test_preprocessed, y_train, y_test\n",
        "\n"
      ]
    },
    {
      "cell_type": "code",
      "execution_count": null,
      "metadata": {
        "id": "WbTVSbUXILRD"
      },
      "outputs": [],
      "source": [
        "# Data Preprocessing\n",
        "file_path = \"Loan Default Prediction Dataset_exported.csv\"\n",
        "df = pd.read_csv(file_path)\n",
        "X_train, X_test, y_train, y_test = preprocess_data(df)"
      ]
    },
    {
      "cell_type": "markdown",
      "metadata": {
        "id": "A0xxVQSSKkPt"
      },
      "source": [
        "# Building Neural Network Model"
      ]
    },
    {
      "cell_type": "code",
      "execution_count": null,
      "metadata": {
        "colab": {
          "base_uri": "https://localhost:8080/"
        },
        "id": "IpLLRW7qKiQh",
        "outputId": "62d2bf30-8dc7-432b-c1b3-1bbbb4a4a998"
      },
      "outputs": [],
      "source": [
        "import tensorflow as tf\n",
        "from tensorflow.keras.models import Sequential\n",
        "from tensorflow.keras.layers import Dense, Dropout\n",
        "\n",
        "# Define a more complex architecture of your neural network with additional layers\n",
        "def build_neural_network(input_dim):\n",
        "    model = Sequential()\n",
        "\n",
        "    # Add input layer\n",
        "    model.add(Dense(128, input_dim=input_dim, activation='relu'))\n",
        "    model.add(Dropout(0.5))\n",
        "\n",
        "    # Add hidden layers\n",
        "    model.add(Dense(256, activation='relu'))\n",
        "    model.add(Dropout(0.5))\n",
        "    model.add(Dense(128, activation='relu'))\n",
        "\n",
        "    # Add more hidden layers\n",
        "    model.add(Dense(64, activation='relu'))\n",
        "    model.add(Dropout(0.3))\n",
        "    model.add(Dense(32, activation='relu'))\n",
        "\n",
        "    # Add output layer with sigmoid activation for binary classification\n",
        "    model.add(Dense(1, activation='sigmoid'))\n",
        "\n",
        "    return model\n",
        "\n",
        "# Get the number of features for input_dim\n",
        "input_dim = X_train.shape[1]\n",
        "\n",
        "# Build the even more complex neural network model\n",
        "model = build_neural_network(input_dim)\n",
        "\n",
        "# Compile the model with binary crossentropy loss and Adam optimizer\n",
        "model.compile(loss='binary_crossentropy', optimizer='adam', metrics=['accuracy'])\n",
        "\n",
        "# Display the model summary\n",
        "print(\"Even More Complex Neural Network Model Summary:\")\n",
        "print(model.summary())\n"
      ]
    },
    {
      "cell_type": "markdown",
      "metadata": {
        "id": "F_zBgeKRL2NM"
      },
      "source": [
        "# Training the Model"
      ]
    },
    {
      "cell_type": "markdown",
      "metadata": {
        "id": "zN-DcRG5L7MI"
      },
      "source": [
        "Simple Training"
      ]
    },
    {
      "cell_type": "code",
      "execution_count": null,
      "metadata": {
        "colab": {
          "base_uri": "https://localhost:8080/"
        },
        "id": "wG959kF_L1ld",
        "outputId": "3ba7e0c8-9bf5-4580-f7f3-43491519688b"
      },
      "outputs": [],
      "source": [
        "# Set the number of epochs and batch size\n",
        "epochs = 10\n",
        "batch_size = 64\n",
        "\n",
        "# Train the model on the training data\n",
        "history = model.fit(X_train, y_train, epochs=epochs, batch_size=batch_size, validation_split=0.2)\n",
        "\n",
        "# Evaluate the model on the test data\n",
        "test_loss, test_accuracy = model.evaluate(X_test, y_test)\n",
        "\n",
        "# Display training history (loss and accuracy over epochs)\n",
        "print(\"\\nTraining History:\")\n",
        "print(history.history)\n",
        "\n",
        "# Display test performance\n",
        "print(\"\\nTest Loss:\", test_loss)\n",
        "print(\"Test Accuracy:\", test_accuracy)"
      ]
    },
    {
      "cell_type": "markdown",
      "metadata": {
        "id": "gSzt-wYyM3Ce"
      },
      "source": [
        "Complex Training with\n",
        "1.   EarlyStopping\n",
        "2.   LearningRateScheduler\n",
        "\n"
      ]
    },
    {
      "cell_type": "code",
      "execution_count": null,
      "metadata": {
        "colab": {
          "base_uri": "https://localhost:8080/"
        },
        "id": "Ud62b7q5M2rZ",
        "outputId": "c69627b3-b03e-4040-fee3-d95b88942fbe"
      },
      "outputs": [],
      "source": [
        "from tensorflow.keras.callbacks import EarlyStopping, LearningRateScheduler\n",
        "\n",
        "# Define a learning rate schedule function (you can customize this based on your needs)\n",
        "def lr_schedule(epoch):\n",
        "    if epoch < 5:\n",
        "        return 0.001\n",
        "    elif epoch < 10:\n",
        "        return 0.0005\n",
        "    else:\n",
        "        return 0.0001\n",
        "\n",
        "# Set the number of epochs and batch size\n",
        "epochs = 20\n",
        "batch_size = 64\n",
        "\n",
        "# Define early stopping to stop training if the validation loss doesn't improve\n",
        "early_stopping = EarlyStopping(monitor='val_loss', patience=3, restore_best_weights=True)\n",
        "\n",
        "# Define learning rate scheduler\n",
        "lr_scheduler = LearningRateScheduler(lr_schedule)\n",
        "\n",
        "# Train the model on the training data with learning rate scheduling and early stopping\n",
        "history = model.fit(\n",
        "    X_train, y_train,\n",
        "    epochs=epochs,\n",
        "    batch_size=batch_size,\n",
        "    validation_split=0.2,\n",
        "    callbacks=[early_stopping, lr_scheduler]\n",
        ")\n",
        "\n",
        "# Evaluate the model on the test data\n",
        "test_loss, test_accuracy = model.evaluate(X_test, y_test)\n",
        "\n",
        "# Display training history (loss and accuracy over epochs)\n",
        "print(\"\\nTraining History:\")\n",
        "print(history.history)\n",
        "\n",
        "# Display test performance\n",
        "print(\"\\nTest Loss:\", test_loss)\n",
        "print(\"Test Accuracy:\", test_accuracy)\n"
      ]
    },
    {
      "cell_type": "markdown",
      "metadata": {
        "id": "ObJ42Q6dOzO_"
      },
      "source": [
        "Evaluating the Model"
      ]
    },
    {
      "cell_type": "code",
      "execution_count": null,
      "metadata": {
        "colab": {
          "base_uri": "https://localhost:8080/",
          "height": 668
        },
        "id": "t2-1fH1_OypZ",
        "outputId": "6ce919c5-dbf1-4e92-f0ff-ee7408baa683"
      },
      "outputs": [],
      "source": [
        "from sklearn.metrics import accuracy_score, precision_score, recall_score, f1_score, roc_auc_score, confusion_matrix\n",
        "import seaborn as sns\n",
        "import matplotlib.pyplot as plt\n",
        "\n",
        "# Predictions on the test set\n",
        "y_pred = model.predict(X_test)\n",
        "y_pred_binary = (y_pred > 0.5).astype(int)\n",
        "\n",
        "# Convert y_test to binary format (0 or 1)\n",
        "y_test_binary = y_test.astype(int)\n",
        "\n",
        "# Calculate metrics\n",
        "accuracy = accuracy_score(y_test_binary, y_pred_binary)\n",
        "precision = precision_score(y_test_binary, y_pred_binary)\n",
        "recall = recall_score(y_test_binary, y_pred_binary)\n",
        "f1 = f1_score(y_test_binary, y_pred_binary)\n",
        "roc_auc = roc_auc_score(y_test_binary, y_pred)\n",
        "\n",
        "# Display metrics\n",
        "print(\"Test Accuracy:\", accuracy)\n",
        "print(\"Precision:\", precision)\n",
        "print(\"Recall:\", recall)\n",
        "print(\"F1 Score:\", f1)\n",
        "print(\"ROC AUC Score:\", roc_auc)\n",
        "\n",
        "# Confusion Matrix\n",
        "cm = confusion_matrix(y_test_binary, y_pred_binary)\n",
        "plt.figure(figsize=(8, 6))\n",
        "sns.heatmap(cm, annot=True, fmt=\"d\", cmap=\"Blues\", cbar=False, annot_kws={\"size\": 14})\n",
        "plt.xlabel(\"Predicted Labels\")\n",
        "plt.ylabel(\"True Labels\")\n",
        "plt.title(\"Confusion Matrix\")\n",
        "plt.show()\n"
      ]
    },
    {
      "cell_type": "markdown",
      "metadata": {
        "id": "AyhfuQuBQAFP"
      },
      "source": [
        "Fine Tunning the Model"
      ]
    },
    {
      "cell_type": "code",
      "execution_count": null,
      "metadata": {
        "colab": {
          "base_uri": "https://localhost:8080/"
        },
        "id": "NmUSPGz_P9n5",
        "outputId": "7e44de9a-a382-4ce1-d484-ef8e9c7a84c6"
      },
      "outputs": [],
      "source": [
        "from tensorflow.keras.models import Sequential\n",
        "from tensorflow.keras.layers import Dense, Dropout, BatchNormalization\n",
        "\n",
        "# Define a more advanced model\n",
        "advanced_model = Sequential()\n",
        "advanced_model.add(Dense(256, activation='relu', input_shape=(X_train.shape[1],)))\n",
        "advanced_model.add(BatchNormalization())\n",
        "advanced_model.add(Dropout(0.5))\n",
        "advanced_model.add(Dense(128, activation='relu'))\n",
        "advanced_model.add(BatchNormalization())\n",
        "advanced_model.add(Dropout(0.5))\n",
        "advanced_model.add(Dense(64, activation='relu'))\n",
        "advanced_model.add(BatchNormalization())\n",
        "advanced_model.add(Dropout(0.5))\n",
        "advanced_model.add(Dense(1, activation='sigmoid'))\n",
        "\n",
        "# Compile the model with a lower learning rate and L2 regularization\n",
        "advanced_model.compile(optimizer='adam', loss='binary_crossentropy', metrics=['accuracy'])\n",
        "\n",
        "# Train the model with early stopping\n",
        "history_advanced = advanced_model.fit(\n",
        "    X_train, y_train,\n",
        "    epochs=20,\n",
        "    batch_size=64,\n",
        "    validation_split=0.2,\n",
        "    callbacks=[EarlyStopping(monitor='val_loss', patience=5, restore_best_weights=True)]\n",
        ")\n"
      ]
    },
    {
      "cell_type": "code",
      "execution_count": null,
      "metadata": {
        "colab": {
          "base_uri": "https://localhost:8080/",
          "height": 668
        },
        "id": "iQeOjJJlQzB8",
        "outputId": "4265bb30-069a-4dd4-e6d0-5f508a27145c"
      },
      "outputs": [],
      "source": [
        "from sklearn.metrics import accuracy_score, precision_score, recall_score, f1_score, roc_auc_score, confusion_matrix\n",
        "import seaborn as sns\n",
        "import matplotlib.pyplot as plt\n",
        "\n",
        "# Predictions on the test set\n",
        "y_pred = advanced_model.predict(X_test)\n",
        "y_pred_binary = (y_pred > 0.5).astype(int)\n",
        "\n",
        "# Convert y_test to binary format (0 or 1)\n",
        "y_test_binary = y_test.astype(int)\n",
        "\n",
        "# Calculate metrics\n",
        "accuracy = accuracy_score(y_test_binary, y_pred_binary)\n",
        "precision = precision_score(y_test_binary, y_pred_binary)\n",
        "recall = recall_score(y_test_binary, y_pred_binary)\n",
        "f1 = f1_score(y_test_binary, y_pred_binary)\n",
        "roc_auc = roc_auc_score(y_test_binary, y_pred)\n",
        "\n",
        "# Display metrics\n",
        "print(\"Test Accuracy:\", accuracy)\n",
        "print(\"Precision:\", precision)\n",
        "print(\"Recall:\", recall)\n",
        "print(\"F1 Score:\", f1)\n",
        "print(\"ROC AUC Score:\", roc_auc)\n",
        "\n",
        "# Confusion Matrix\n",
        "cm = confusion_matrix(y_test_binary, y_pred_binary)\n",
        "plt.figure(figsize=(8, 6))\n",
        "sns.heatmap(cm, annot=True, fmt=\"d\", cmap=\"Blues\", cbar=False, annot_kws={\"size\": 14})\n",
        "plt.xlabel(\"Predicted Labels\")\n",
        "plt.ylabel(\"True Labels\")\n",
        "plt.title(\"Confusion Matrix\")\n",
        "plt.show()\n"
      ]
    },
    {
      "cell_type": "markdown",
      "metadata": {
        "id": "SXcUxOH1Raec"
      },
      "source": [
        "L2 Regularization"
      ]
    },
    {
      "cell_type": "code",
      "execution_count": null,
      "metadata": {
        "id": "ZHgrB6FNRVhF"
      },
      "outputs": [],
      "source": [
        "from tensorflow.keras.regularizers import l2\n",
        "\n",
        "advanced_model = Sequential()\n",
        "advanced_model.add(Dense(256, activation='relu', input_shape=(X_train.shape[1],), kernel_regularizer=l2(0.01)))\n",
        "advanced_model.add(BatchNormalization())\n",
        "advanced_model.add(Dropout(0.5))\n",
        "advanced_model.add(Dense(128, activation='relu', kernel_regularizer=l2(0.01)))\n",
        "advanced_model.add(BatchNormalization())\n",
        "advanced_model.add(Dropout(0.5))\n",
        "advanced_model.add(Dense(64, activation='relu', kernel_regularizer=l2(0.01)))\n",
        "advanced_model.add(BatchNormalization())\n",
        "advanced_model.add(Dropout(0.5))\n",
        "advanced_model.add(Dense(1, activation='sigmoid'))\n",
        "\n",
        "# Compile the model\n",
        "advanced_model.compile(optimizer='adam', loss='binary_crossentropy', metrics=['accuracy'])\n"
      ]
    },
    {
      "cell_type": "code",
      "execution_count": null,
      "metadata": {
        "colab": {
          "base_uri": "https://localhost:8080/"
        },
        "id": "NtyJaoWvRicK",
        "outputId": "5613c488-37eb-47f5-c2b4-ea8911fec8d3"
      },
      "outputs": [],
      "source": [
        "from sklearn.metrics import accuracy_score, precision_score, recall_score, f1_score, roc_auc_score, confusion_matrix\n",
        "import seaborn as sns\n",
        "import matplotlib.pyplot as plt\n",
        "\n",
        "# Predictions on the test set\n",
        "y_pred = advanced_model.predict(X_test)\n",
        "y_pred_binary = (y_pred > 0.5).astype(int)\n",
        "\n",
        "# Convert y_test to binary format (0 or 1)\n",
        "y_test_binary = y_test.astype(int)\n",
        "\n",
        "# Calculate metrics\n",
        "accuracy = accuracy_score(y_test_binary, y_pred_binary)\n",
        "precision = precision_score(y_test_binary, y_pred_binary)\n",
        "recall = recall_score(y_test_binary, y_pred_binary)\n",
        "f1 = f1_score(y_test_binary, y_pred_binary)\n",
        "roc_auc = roc_auc_score(y_test_binary, y_pred)\n",
        "\n",
        "# Display metrics\n",
        "print(\"Test Accuracy:\", accuracy)\n",
        "print(\"Precision:\", precision)\n",
        "print(\"Recall:\", recall)\n",
        "print(\"F1 Score:\", f1)\n",
        "print(\"ROC AUC Score:\", roc_auc)\n"
      ]
    },
    {
      "cell_type": "markdown",
      "metadata": {
        "id": "d7ZmrXJlWrNE"
      },
      "source": [
        "More tuning the improve the scores"
      ]
    },
    {
      "cell_type": "code",
      "execution_count": null,
      "metadata": {
        "colab": {
          "base_uri": "https://localhost:8080/"
        },
        "id": "-v764slhWgXR",
        "outputId": "0bc46d0e-760e-4e8a-a52d-4d7ac0fe5e94"
      },
      "outputs": [],
      "source": [
        "import numpy as np\n",
        "from sklearn.metrics import classification_report, roc_auc_score\n",
        "\n",
        "# Train the model with L2 regularization and early stopping\n",
        "history_l2 = advanced_model.fit(\n",
        "    X_train, y_train,\n",
        "    epochs=20,\n",
        "    batch_size=64,\n",
        "    validation_split=0.2,\n",
        "    callbacks=[EarlyStopping(monitor='val_loss', patience=5, restore_best_weights=True)]\n",
        ")\n",
        "\n",
        "# Evaluate the model on the test set\n",
        "y_pred_prob = advanced_model.predict(X_test)\n",
        "y_pred = (y_pred_prob > 0.5).astype(int)\n",
        "\n",
        "# Adjust the threshold and calculate metrics\n",
        "threshold = 0.3  # Experiment with different threshold values\n",
        "y_pred_adjusted = (y_pred_prob > threshold).astype(int)\n",
        "\n",
        "print(\"Classification Report:\")\n",
        "print(classification_report(y_test, y_pred_adjusted))\n",
        "\n",
        "print(\"ROC AUC Score:\", roc_auc_score(y_test, y_pred_prob))\n"
      ]
    },
    {
      "cell_type": "markdown",
      "metadata": {
        "id": "CxlzpiFAZlUy"
      },
      "source": [
        "Ensembling"
      ]
    },
    {
      "cell_type": "code",
      "execution_count": null,
      "metadata": {
        "id": "Lx2dLV00ZAuv"
      },
      "outputs": [],
      "source": [
        "from sklearn.ensemble import RandomForestClassifier, VotingClassifier\n",
        "from sklearn.linear_model import LogisticRegression\n",
        "from sklearn.svm import SVC\n",
        "from sklearn.pipeline import make_pipeline\n",
        "from sklearn.model_selection import cross_val_predict\n",
        "from sklearn.metrics import classification_report, accuracy_score\n",
        "from sklearn.preprocessing import StandardScaler\n",
        "\n",
        "# Assume you have already preprocessed X_train and y_train\n",
        "\n",
        "# Define individual classifiers\n",
        "rf_classifier = RandomForestClassifier(n_estimators=50, random_state=42, n_jobs=-1)\n",
        "lr_classifier = make_pipeline(StandardScaler(), LogisticRegression(random_state=42))\n",
        "svm_classifier = make_pipeline(StandardScaler(), SVC(probability=True, random_state=42))\n",
        "\n",
        "# Create a Voting Classifier\n",
        "voting_classifier = VotingClassifier(\n",
        "    estimators=[\n",
        "        ('random_forest', rf_classifier),\n",
        "        ('logistic_regression', lr_classifier),\n",
        "        ('svm', svm_classifier)\n",
        "    ],\n",
        "    voting='soft'  # Use soft voting for probability-based ensemble\n",
        ")\n",
        "\n",
        "# Evaluate the ensemble using cross-validation\n",
        "y_pred = cross_val_predict(voting_classifier, X_train, y_train, cv=5, method='predict_proba')[:, 1]\n",
        "\n",
        "# Threshold the probabilities to get binary predictions\n",
        "threshold = 0.5\n",
        "y_pred_binary = (y_pred > threshold).astype(int)\n",
        "\n",
        "# Evaluate the performance\n",
        "print(\"Ensemble Performance:\")\n",
        "print(classification_report(y_train, y_pred_binary))\n",
        "print(\"Accuracy:\", accuracy_score(y_train, y_pred_binary))\n"
      ]
    },
    {
      "cell_type": "code",
      "execution_count": null,
      "metadata": {
        "id": "_usahoT1jE0-"
      },
      "outputs": [],
      "source": [
        "pip install imbalanced-learn\n"
      ]
    },
    {
      "cell_type": "markdown",
      "metadata": {
        "id": "yy3iu1yYm_TQ"
      },
      "source": [
        "Adding OverSampling"
      ]
    },
    {
      "cell_type": "code",
      "execution_count": null,
      "metadata": {
        "id": "b-X93B-ZjK04"
      },
      "outputs": [],
      "source": [
        "from sklearn.ensemble import RandomForestClassifier, VotingClassifier\n",
        "from sklearn.linear_model import LogisticRegression\n",
        "from sklearn.svm import SVC\n",
        "from sklearn.pipeline import make_pipeline\n",
        "from sklearn.model_selection import cross_val_predict\n",
        "from sklearn.metrics import classification_report, accuracy_score\n",
        "from sklearn.preprocessing import StandardScaler\n",
        "from imblearn.over_sampling import RandomOverSampler\n",
        "\n",
        "# Assume you have already preprocessed X_train and y_train\n",
        "\n",
        "# Handle class imbalance with oversampling\n",
        "oversampler = RandomOverSampler(random_state=42)\n",
        "X_resampled, y_resampled = oversampler.fit_resample(X_train, y_train)\n",
        "\n",
        "# Define individual classifiers\n",
        "rf_classifier = RandomForestClassifier(n_estimators=50, random_state=42, n_jobs=-1)\n",
        "lr_classifier = make_pipeline(StandardScaler(), LogisticRegression(random_state=42))\n",
        "svm_classifier = make_pipeline(StandardScaler(), SVC(probability=True, random_state=42))\n",
        "\n",
        "# Create a Voting Classifier\n",
        "voting_classifier = VotingClassifier(\n",
        "    estimators=[\n",
        "        ('random_forest', rf_classifier),\n",
        "        ('logistic_regression', lr_classifier),\n",
        "        ('svm', svm_classifier)\n",
        "    ],\n",
        "    voting='soft'  # Use soft voting for probability-based ensemble\n",
        ")\n",
        "\n",
        "# Evaluate the ensemble using cross-validation\n",
        "y_pred = cross_val_predict(voting_classifier, X_resampled, y_resampled, cv=5, method='predict_proba')[:, 1]\n",
        "\n",
        "# Threshold the probabilities to get binary predictions\n",
        "threshold = 0.5\n",
        "y_pred_binary = (y_pred > threshold).astype(int)\n",
        "\n",
        "# Evaluate the performance\n",
        "print(\"Ensemble Performance:\")\n",
        "print(classification_report(y_resampled, y_pred_binary))\n",
        "print(\"Accuracy:\", accuracy_score(y_resampled, y_pred_binary))\n"
      ]
    },
    {
      "cell_type": "code",
      "execution_count": null,
      "metadata": {
        "id": "-Yqzb7mXp-Hz"
      },
      "outputs": [],
      "source": [
        "saving the model"
      ]
    },
    {
      "cell_type": "code",
      "execution_count": null,
      "metadata": {
        "id": "XoHAgD8gpa8n"
      },
      "outputs": [],
      "source": [
        "from sklearn.ensemble import VotingClassifier\n",
        "import joblib\n",
        "\n",
        "\n",
        "# Save the ensemble model\n",
        "joblib.dump(voting_classifier, 'ensemble_model.joblib')\n",
        "\n",
        "# Save the preprocessor (ColumnTransformer)\n",
        "joblib.dump(preprocessor, 'preprocessor.joblib')\n",
        "\n",
        "# Save the numeric transformer (StandardScaler)\n",
        "numeric_transformer = preprocessor.named_transformers_['num']['scaler']\n",
        "joblib.dump(numeric_transformer, 'numeric_transformer.joblib')\n",
        "\n",
        "# Save the categorical transformer (OneHotEncoder)\n",
        "categorical_transformer = preprocessor.named_transformers_['cat']['onehot']\n",
        "joblib.dump(categorical_transformer, 'categorical_transformer.joblib')"
      ]
    },
    {
      "cell_type": "markdown",
      "metadata": {
        "id": "Wt4uubFvrtRg"
      },
      "source": [
        "# Predicting New Data"
      ]
    },
    {
      "cell_type": "code",
      "execution_count": null,
      "metadata": {
        "id": "LrwswwV7rw1P"
      },
      "outputs": [],
      "source": [
        "import pandas as pd\n",
        "import numpy as np\n",
        "from sklearn.impute import SimpleImputer\n",
        "from sklearn.preprocessing import StandardScaler\n",
        "import joblib\n",
        "\n",
        "# Load the saved ensemble model\n",
        "loaded_ensemble_model = joblib.load('ensemble_model.joblib')\n",
        "\n",
        "# Load your new data for prediction (replace 'new_data.csv' with your file path)\n",
        "new_data = pd.read_csv('trial.csv')\n",
        "\n",
        "# Display the raw new data\n",
        "print(\"Raw New Data:\")\n",
        "print(new_data.head())\n",
        "\n",
        "# Assuming 'Default' column has missing values\n",
        "# Add 'Default' column with NaN values\n",
        "new_data['Default'] = np.nan\n",
        "\n",
        "# Display the new data after adding 'Default' column\n",
        "print(\"\\nNew Data with 'Default' Column Added:\")\n",
        "print(new_data.head())\n"
      ]
    },
    {
      "cell_type": "code",
      "execution_count": null,
      "metadata": {
        "id": "w9cAMYSTsgm7"
      },
      "outputs": [],
      "source": [
        "\n",
        "# Drop 'LoanID' if present\n",
        "if 'LoanID' in df.columns:\n",
        "    df = df.drop('LoanID', axis=1)\n",
        "\n",
        "import pandas as pd\n",
        "from sklearn.impute import SimpleImputer\n",
        "from sklearn.preprocessing import StandardScaler, OneHotEncoder\n",
        "from sklearn.compose import ColumnTransformer\n",
        "from sklearn.pipeline import Pipeline\n",
        "\n",
        "# Assume 'new_data' is your DataFrame with the provided column names\n",
        "# Replace 'NumericColumn' and 'CategoricalColumn' with actual column names\n",
        "\n",
        "numeric_features = ['Age', 'Income', 'LoanAmount', 'CreditScore', 'MonthsEmployed', 'NumCreditLines', 'InterestRate', 'LoanTerm', 'DTIRatio']\n",
        "categorical_features = ['Education', 'MaritalStatus', 'HasMortgage', 'HasDependents', 'LoanPurpose', 'HasCoSigner']\n",
        "\n",
        "# Create transformers for numeric and categorical features\n",
        "numeric_transformer = Pipeline(steps=[\n",
        "    ('imputer', SimpleImputer(strategy='mean')),\n",
        "    ('scaler', StandardScaler())\n",
        "])\n",
        "\n",
        "categorical_transformer = Pipeline(steps=[\n",
        "    ('imputer', SimpleImputer(strategy='most_frequent')),\n",
        "    ('onehot', OneHotEncoder(drop='first'))\n",
        "])\n",
        "\n",
        "# Create column transformer\n",
        "preprocessor = ColumnTransformer(\n",
        "    transformers=[\n",
        "        ('num', numeric_transformer, numeric_features),\n",
        "        ('cat', categorical_transformer, categorical_features)\n",
        "    ])\n",
        "\n",
        "# Apply the preprocessing steps to new_data\n",
        "X_new_data = preprocessor.fit_transform(new_data)\n",
        "\n",
        "\n",
        "# Display the preprocessed new data\n",
        "columns_after_onehot = preprocessor.named_transformers_['cat']['onehot'].get_feature_names_out(categorical_features)\n",
        "all_columns = numeric_features + list(columns_after_onehot)\n",
        "pd.DataFrame(X_new_data, columns=all_columns)\n"
      ]
    },
    {
      "cell_type": "code",
      "execution_count": null,
      "metadata": {
        "id": "u-5EmJdjuttW"
      },
      "outputs": [],
      "source": [
        "# Check the column names in new_data\n",
        "print(new_data.columns)"
      ]
    },
    {
      "cell_type": "code",
      "execution_count": null,
      "metadata": {
        "id": "hHlUa-Xks_Th"
      },
      "outputs": [],
      "source": [
        "# Make predictions using the loaded ensemble model\n",
        "ensemble_model = VotingClassifier(\n",
        "    estimators=[\n",
        "        ('random_forest', rf_classifier),\n",
        "        ('logistic_regression', lr_classifier),\n",
        "        ('svm', svm_classifier)\n",
        "    ],\n",
        "    voting='soft'  # Use soft voting for probability-based ensemble\n",
        ")\n",
        "\n",
        "# Fit the ensemble model\n",
        "ensemble_model.fit(X_train, y_train)\n",
        "\n",
        "# Save the fitted ensemble model\n",
        "joblib.dump(ensemble_model, 'ensemble_model.joblib')\n",
        "\n",
        "# Now, you can load and use the fitted ensemble model for predictions\n",
        "loaded_ensemble_model = joblib.load('ensemble_model.joblib')\n",
        "\n",
        "# Make predictions\n",
        "predictions = loaded_ensemble_model.predict(X_new_data)\n",
        "\n",
        "# Display the predictions\n",
        "print(\"\\nPredictions:\")\n",
        "print(predictions)"
      ]
    },
    {
      "cell_type": "code",
      "execution_count": null,
      "metadata": {
        "id": "54l-NBLHXAHu"
      },
      "outputs": [],
      "source": [
        "import pandas as pd\n",
        "from sklearn.compose import ColumnTransformer\n",
        "from sklearn.pipeline import Pipeline\n",
        "from sklearn.impute import SimpleImputer\n",
        "from sklearn.preprocessing import StandardScaler, OneHotEncoder\n",
        "\n",
        "\n",
        "# Manually input new data\n",
        "new_data = {\n",
        "    'Age': 29,\n",
        "    'Income': 129670,\n",
        "    'LoanAmount': 213947,\n",
        "    'CreditScore': 593,\n",
        "    'MonthsEmployed': 49,\n",
        "    'NumCreditLines': 4,\n",
        "    'InterestRate': 7.07,\n",
        "    'LoanTerm': 60,\n",
        "    'DTIRatio': 0.89,\n",
        "    'Education': \"Bachelor's\",\n",
        "    'MaritalStatus': \"Single\",\n",
        "    'HasMortgage': \"Yes\",\n",
        "    'HasDependents': \"No\",\n",
        "    'LoanPurpose': \"Business\",\n",
        "    'HasCoSigner': \"No\",\n",
        "}\n",
        "\n",
        "# Create a DataFrame with a single row using the new data\n",
        "new_data_df = pd.DataFrame([new_data])\n",
        "\n",
        "# Display the new data\n",
        "print(\"New Data:\")\n",
        "print(new_data_df)\n",
        "\n",
        "# Original preprocessing steps\n",
        "numeric_features = ['Age', 'Income', 'LoanAmount', 'CreditScore', 'MonthsEmployed',\n",
        "                    'NumCreditLines', 'InterestRate', 'LoanTerm', 'DTIRatio']\n",
        "\n",
        "categorical_features = ['Education', 'MaritalStatus', 'HasMortgage', 'HasDependents',\n",
        "                         'LoanPurpose', 'HasCoSigner']\n",
        "\n",
        "# Preprocessing pipeline\n",
        "numeric_transformer = Pipeline(steps=[\n",
        "    ('imputer', SimpleImputer(strategy='mean')),\n",
        "    ('scaler', StandardScaler())\n",
        "])\n",
        "\n",
        "categorical_transformer = Pipeline(steps=[\n",
        "    ('imputer', SimpleImputer(strategy='most_frequent')),\n",
        "    ('onehot', OneHotEncoder(drop='first', sparse=False))  # Set sparse to False\n",
        "])\n",
        "\n",
        "preprocessor = ColumnTransformer(\n",
        "    transformers=[\n",
        "        ('num', numeric_transformer, numeric_features),\n",
        "        ('cat', categorical_transformer, categorical_features)\n",
        "    ])\n",
        "\n",
        "# Fit and transform the new data using the preprocessor\n",
        "X_new_data = preprocessor.fit_transform(new_data_df)\n",
        "\n",
        "# Get feature names after one-hot encoding\n",
        "feature_names = numeric_features + list(preprocessor.named_transformers_['cat']['onehot'].get_feature_names_out(categorical_features))\n",
        "\n",
        "# Display the preprocessed new data\n",
        "print(\"\\nPreprocessed New Data:\")\n",
        "print(pd.DataFrame(X_new_data, columns=feature_names))"
      ]
    },
    {
      "cell_type": "code",
      "execution_count": null,
      "metadata": {
        "id": "411TaWLdYmg4"
      },
      "outputs": [],
      "source": [
        "import joblib\n",
        "\n",
        "# Step 1: Load the saved model\n",
        "loaded_ensemble_model = joblib.load(\"ensemble_model.joblib\")\n",
        "\n",
        "# Step 2: Preprocess the new data\n",
        "X_new_data = preprocessor.transform(new_data_df)\n",
        "\n",
        "# Step 3: Make predictions\n",
        "predictions = loaded_ensemble_model.predict(X_new_data)\n",
        "\n",
        "# Display the predictions\n",
        "print(\"\\nPredictions:\")\n",
        "print(predictions)\n"
      ]
    }
  ],
  "metadata": {
    "accelerator": "TPU",
    "colab": {
      "provenance": []
    },
    "kernelspec": {
      "display_name": "Python 3",
      "name": "python3"
    },
    "language_info": {
      "name": "python"
    }
  },
  "nbformat": 4,
  "nbformat_minor": 0
}
